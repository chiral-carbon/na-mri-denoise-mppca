{
 "cells": [
  {
   "cell_type": "code",
   "execution_count": 1,
   "metadata": {},
   "outputs": [],
   "source": [
    "import numpy as np\n",
    "from scipy import linalg, stats, ndimage\n",
    "import matplotlib.pyplot as plt\n",
    "import seaborn as sns\n",
    "from skimage.metrics import structural_similarity as ssim, peak_signal_noise_ratio as psnr\n",
    "from pathlib import Path\n",
    "import pandas as pd\n",
    "from tqdm import tqdm\n",
    "from collections import defaultdict\n",
    "import os\n",
    "from utils.readNaImage import read_na_image"
   ]
  },
  {
   "cell_type": "code",
   "execution_count": 2,
   "metadata": {},
   "outputs": [],
   "source": [
    "# Setup your data path for the 4D data\n",
    "\n",
    "def get_4d_complex_data_provided(num_images=24, zero_imag=False):\n",
    "    pat_dict_corrected = {}\n",
    "    path = f'Das_Denoising_Data/24_images' # contains data from 6 * 4 runs\n",
    "    dims = [64, 64, 64]\n",
    "    \n",
    "    for folder in os.listdir(path):\n",
    "        if folder.startswith(\"Das_\") or folder.startswith(\"H0\"):\n",
    "            common_path = os.path.join(path, folder)\n",
    "            all_avgs_corrected = list()\n",
    "\n",
    "            def process_images(path, dims):\n",
    "                folder_name = path.split('/')[-2]\n",
    "                print(folder_name)\n",
    "                if not folder_name in ['H093_v2_tpiRecon', 'H094_v2_tpiRecon', \n",
    "                                     'H095_v2_tpiRecon', 'H096_v2_tpiRecon', \n",
    "                                     'H097_v2_tpiRecon', 'H098_v2_tpiRecon', \n",
    "                                     'H099_v2_tpiRecon']:\n",
    "                    path = os.path.join(path, 'AVGall_kw1')\n",
    "\n",
    "                try:\n",
    "                    if os.path.exists(os.path.join(path, 'tpirec_image_PC2.c0')):\n",
    "                        filename_corrected = 'tpirec_image_PC2.c0'\n",
    "                    elif os.path.exists(os.path.join(path, 'tpirec_image_PC.c0')):\n",
    "                        filename_corrected = 'tpirec_image_PC.c0'\n",
    "                    elif os.path.exists(os.path.join(path, 'tpirec-_image_PC.c0')):\n",
    "                        filename_corrected = 'tpirec-_image_PC.c0'\n",
    "                    image3d_corrected = read_na_image(os.path.join(path, filename_corrected), \n",
    "                                                    *dims, 'complex')\n",
    "                except:\n",
    "                    print(f\"Error reading {filename_corrected}\")\n",
    "                    image3d_corrected = np.zeros(tuple(dims) + (1,), dtype=np.complex64)\n",
    "\n",
    "                return image3d_corrected\n",
    "\n",
    "            run_count = 0\n",
    "            for runs in os.listdir(common_path):\n",
    "                if runs == '.DS_Store':\n",
    "                    continue\n",
    "                if run_count == num_images//6:\n",
    "                    break\n",
    "                image3d_corrected = process_images(os.path.join(common_path, runs), dims)\n",
    "                all_avgs_corrected.append(image3d_corrected)\n",
    "                run_count += 1\n",
    "\n",
    "            if folder.startswith(\"Das_\"):\n",
    "                folder_key = folder.split(\"_\")[1]\n",
    "            else:\n",
    "                folder_key = folder.split(\"_\")[0]\n",
    "            folder_key = folder_key.split(\"H0\")[1]\n",
    "\n",
    "            all_avgs_corrected = np.array(all_avgs_corrected)\n",
    "            pat_dict_corrected[folder_key] = np.transpose(all_avgs_corrected, (1, 2, 3, 0))\n",
    "\n",
    "    return pat_dict_corrected"
   ]
  },
  {
   "cell_type": "code",
   "execution_count": 6,
   "metadata": {},
   "outputs": [
    {
     "name": "stdout",
     "output_type": "stream",
     "text": [
      "Loading data...\n",
      "H077_v2_tpiRecon\n",
      "H077_v2_tpiRecon\n",
      "H077_v2_tpiRecon\n",
      "Das_H049_v2\n",
      "Das_H049_v2\n",
      "Das_H049_v2\n",
      "Das_H049_v2\n",
      "H096_v2_tpiRecon\n",
      "H096_v2_tpiRecon\n",
      "H096_v2_tpiRecon\n",
      "H083_v2_tpiRecon\n",
      "H083_v2_tpiRecon\n",
      "H083_v2_tpiRecon\n",
      "H086_v2_tpiRecon\n",
      "H086_v2_tpiRecon\n",
      "H086_v2_tpiRecon\n",
      "H072_v2_tpiRecon\n",
      "H072_v2_tpiRecon\n",
      "H072_v2_tpiRecon\n",
      "Das_H048_v2\n",
      "Das_H048_v2\n",
      "Das_H048_v2\n",
      "H093_v2_tpiRecon\n",
      "H093_v2_tpiRecon\n",
      "H093_v2_tpiRecon\n",
      "H090_v2_tpiRecon\n",
      "H090_v2_tpiRecon\n",
      "H090_v2_tpiRecon\n",
      "H071_v2_tpiRecon\n",
      "H071_v2_tpiRecon\n",
      "H071_v2_tpiRecon\n",
      "H099_v2_tpiRecon\n",
      "H099_v2_tpiRecon\n",
      "H099_v2_tpiRecon\n",
      "H078_v2_tpiRecon\n",
      "H078_v2_tpiRecon\n",
      "H078_v2_tpiRecon\n",
      "H085_v2_tpiRecon\n",
      "H085_v2_tpiRecon\n",
      "H085_v2_tpiRecon\n",
      "H080_v2_tpiRecon\n",
      "H080_v2_tpiRecon\n",
      "H080_v2_tpiRecon\n",
      "H095_v2_tpiRecon\n",
      "H095_v2_tpiRecon\n",
      "H095_v2_tpiRecon\n",
      "Das_H052_v2\n",
      "Das_H052_v2\n",
      "Das_H052_v2\n",
      "Das_H052_v2\n",
      "H074_v2_tpiRecon\n",
      "H074_v2_tpiRecon\n",
      "H074_v2_tpiRecon\n",
      "H089_v2_tpiRecon\n",
      "H089_v2_tpiRecon\n",
      "H089_v2_tpiRecon\n",
      "H092_v2_tpiRecon\n",
      "H092_v2_tpiRecon\n",
      "H092_v2_tpiRecon\n",
      "H073_v2_tpiRecon\n",
      "H073_v2_tpiRecon\n",
      "H073_v2_tpiRecon\n",
      "Das_H051_v2\n",
      "Das_H051_v2\n",
      "Das_H051_v2\n",
      "Das_H051_v2\n",
      "H087_v2_tpiRecon\n",
      "H087_v2_tpiRecon\n",
      "H087_v2_tpiRecon\n",
      "H082_v2_tpiRecon\n",
      "H082_v2_tpiRecon\n",
      "H082_v2_tpiRecon\n",
      "Das_H050_v2\n",
      "Das_H050_v2\n",
      "Das_H050_v2\n",
      "Das_H050_v2\n",
      "H097_v2_tpiRecon\n",
      "H097_v2_tpiRecon\n",
      "H097_v2_tpiRecon\n",
      "H076_v2_tpiRecon\n",
      "H076_v2_tpiRecon\n",
      "H076_v2_tpiRecon\n",
      "H088_v2_tpiRecon\n",
      "H088_v2_tpiRecon\n",
      "H088_v2_tpiRecon\n",
      "H075_v2_tpiRecon\n",
      "H075_v2_tpiRecon\n",
      "H075_v2_tpiRecon\n",
      "H094_v2_tpiRecon\n",
      "H094_v2_tpiRecon\n",
      "H094_v2_tpiRecon\n",
      "H081_v2_tpiRecon\n",
      "H081_v2_tpiRecon\n",
      "H081_v2_tpiRecon\n",
      "H084_v2_tpiRecon\n",
      "H084_v2_tpiRecon\n",
      "H084_v2_tpiRecon\n",
      "H079_v2_tpiRecon\n",
      "H079_v2_tpiRecon\n",
      "H079_v2_tpiRecon\n",
      "H098_v2_tpiRecon\n",
      "H070_v2_tpiRecon\n",
      "H070_v2_tpiRecon\n",
      "H070_v2_tpiRecon\n",
      "H091_v2_tpiRecon\n",
      "H091_v2_tpiRecon\n",
      "H091_v2_tpiRecon\n",
      "\n",
      "Processing subject 77\n",
      "\n",
      "Analyzing n_components = None\n"
     ]
    },
    {
     "name": "stderr",
     "output_type": "stream",
     "text": [
      "100%|██████████| 64/64 [01:04<00:00,  1.01s/it]\n"
     ]
    },
    {
     "name": "stdout",
     "output_type": "stream",
     "text": [
      "Components: Auto\n",
      "PSNR: 30.01 dB\n",
      "Sigma: 2.79e+01\n",
      "Components used: 1.1691207885742188\n",
      "\n",
      "Processing subject 49\n",
      "\n",
      "Analyzing n_components = None\n"
     ]
    },
    {
     "name": "stderr",
     "output_type": "stream",
     "text": [
      "100%|██████████| 64/64 [01:01<00:00,  1.04it/s]\n"
     ]
    },
    {
     "name": "stdout",
     "output_type": "stream",
     "text": [
      "Components: Auto\n",
      "PSNR: 28.90 dB\n",
      "Sigma: 3.25e+01\n",
      "Components used: 1.5365829467773438\n",
      "\n",
      "Processing subject 96\n",
      "\n",
      "Analyzing n_components = None\n"
     ]
    },
    {
     "name": "stderr",
     "output_type": "stream",
     "text": [
      "100%|██████████| 64/64 [00:56<00:00,  1.13it/s]\n"
     ]
    },
    {
     "name": "stdout",
     "output_type": "stream",
     "text": [
      "Components: Auto\n",
      "PSNR: 28.83 dB\n",
      "Sigma: 3.10e+01\n",
      "Components used: 1.0374412536621094\n",
      "\n",
      "Processing subject 83\n",
      "\n",
      "Analyzing n_components = None\n"
     ]
    },
    {
     "name": "stderr",
     "output_type": "stream",
     "text": [
      "100%|██████████| 64/64 [00:51<00:00,  1.25it/s]\n"
     ]
    },
    {
     "name": "stdout",
     "output_type": "stream",
     "text": [
      "Components: Auto\n",
      "PSNR: 32.83 dB\n",
      "Sigma: 1.73e+01\n",
      "Components used: 1.1721992492675781\n",
      "\n",
      "Processing subject 86\n",
      "\n",
      "Analyzing n_components = None\n"
     ]
    },
    {
     "name": "stderr",
     "output_type": "stream",
     "text": [
      "100%|██████████| 64/64 [00:51<00:00,  1.25it/s]\n"
     ]
    },
    {
     "name": "stdout",
     "output_type": "stream",
     "text": [
      "Components: Auto\n",
      "PSNR: 28.76 dB\n",
      "Sigma: 2.84e+01\n",
      "Components used: 1.0653724670410156\n",
      "\n",
      "Processing subject 72\n",
      "\n",
      "Analyzing n_components = None\n"
     ]
    },
    {
     "name": "stderr",
     "output_type": "stream",
     "text": [
      "100%|██████████| 64/64 [00:51<00:00,  1.24it/s]\n"
     ]
    },
    {
     "name": "stdout",
     "output_type": "stream",
     "text": [
      "Components: Auto\n",
      "PSNR: 28.85 dB\n",
      "Sigma: 2.99e+01\n",
      "Components used: 1.0396270751953125\n",
      "\n",
      "Processing subject 48\n",
      "\n",
      "Analyzing n_components = None\n"
     ]
    },
    {
     "name": "stderr",
     "output_type": "stream",
     "text": [
      "100%|██████████| 64/64 [00:49<00:00,  1.30it/s]\n"
     ]
    },
    {
     "name": "stdout",
     "output_type": "stream",
     "text": [
      "Components: Auto\n",
      "PSNR: 28.49 dB\n",
      "Sigma: 2.75e+01\n",
      "Components used: 1.0488128662109375\n",
      "\n",
      "Processing subject 93\n",
      "\n",
      "Analyzing n_components = None\n"
     ]
    },
    {
     "name": "stderr",
     "output_type": "stream",
     "text": [
      "100%|██████████| 64/64 [00:50<00:00,  1.27it/s]\n"
     ]
    },
    {
     "name": "stdout",
     "output_type": "stream",
     "text": [
      "Components: Auto\n",
      "PSNR: 28.91 dB\n",
      "Sigma: 2.66e+01\n",
      "Components used: 1.1325645446777344\n",
      "\n",
      "Processing subject 90\n",
      "\n",
      "Analyzing n_components = None\n"
     ]
    },
    {
     "name": "stderr",
     "output_type": "stream",
     "text": [
      "100%|██████████| 64/64 [00:55<00:00,  1.15it/s]\n"
     ]
    },
    {
     "name": "stdout",
     "output_type": "stream",
     "text": [
      "Components: Auto\n",
      "PSNR: 28.18 dB\n",
      "Sigma: 2.99e+01\n",
      "Components used: 1.1068611145019531\n",
      "\n",
      "Processing subject 71\n",
      "\n",
      "Analyzing n_components = None\n"
     ]
    },
    {
     "name": "stderr",
     "output_type": "stream",
     "text": [
      "100%|██████████| 64/64 [00:53<00:00,  1.20it/s]\n"
     ]
    },
    {
     "name": "stdout",
     "output_type": "stream",
     "text": [
      "Components: Auto\n",
      "PSNR: 31.89 dB\n",
      "Sigma: 1.95e+01\n",
      "Components used: 1.1380157470703125\n",
      "\n",
      "Processing subject 99\n",
      "\n",
      "Analyzing n_components = None\n"
     ]
    },
    {
     "name": "stderr",
     "output_type": "stream",
     "text": [
      "100%|██████████| 64/64 [00:56<00:00,  1.12it/s]\n"
     ]
    },
    {
     "name": "stdout",
     "output_type": "stream",
     "text": [
      "Components: Auto\n",
      "PSNR: 32.28 dB\n",
      "Sigma: 2.19e+01\n",
      "Components used: 1.3062362670898438\n",
      "\n",
      "Processing subject 78\n",
      "\n",
      "Analyzing n_components = None\n"
     ]
    },
    {
     "name": "stderr",
     "output_type": "stream",
     "text": [
      "100%|██████████| 64/64 [01:00<00:00,  1.05it/s]\n"
     ]
    },
    {
     "name": "stdout",
     "output_type": "stream",
     "text": [
      "Components: Auto\n",
      "PSNR: 31.40 dB\n",
      "Sigma: 2.49e+01\n",
      "Components used: 1.1148490905761719\n",
      "\n",
      "Processing subject 85\n",
      "\n",
      "Analyzing n_components = None\n"
     ]
    },
    {
     "name": "stderr",
     "output_type": "stream",
     "text": [
      "100%|██████████| 64/64 [00:58<00:00,  1.09it/s]\n"
     ]
    },
    {
     "name": "stdout",
     "output_type": "stream",
     "text": [
      "Components: Auto\n",
      "PSNR: 27.96 dB\n",
      "Sigma: 2.85e+01\n",
      "Components used: 1.1910667419433594\n",
      "\n",
      "Processing subject 80\n",
      "\n",
      "Analyzing n_components = None\n"
     ]
    },
    {
     "name": "stderr",
     "output_type": "stream",
     "text": [
      "100%|██████████| 64/64 [00:56<00:00,  1.13it/s]\n"
     ]
    },
    {
     "name": "stdout",
     "output_type": "stream",
     "text": [
      "Components: Auto\n",
      "PSNR: 33.10 dB\n",
      "Sigma: 2.07e+01\n",
      "Components used: 1.1478118896484375\n",
      "\n",
      "Processing subject 95\n",
      "\n",
      "Analyzing n_components = None\n"
     ]
    },
    {
     "name": "stderr",
     "output_type": "stream",
     "text": [
      "100%|██████████| 64/64 [00:54<00:00,  1.17it/s]\n"
     ]
    },
    {
     "name": "stdout",
     "output_type": "stream",
     "text": [
      "Components: Auto\n",
      "PSNR: 28.36 dB\n",
      "Sigma: 3.48e+01\n",
      "Components used: 1.0358543395996094\n",
      "\n",
      "Processing subject 52\n",
      "\n",
      "Analyzing n_components = None\n"
     ]
    },
    {
     "name": "stderr",
     "output_type": "stream",
     "text": [
      "100%|██████████| 64/64 [00:58<00:00,  1.09it/s]\n"
     ]
    },
    {
     "name": "stdout",
     "output_type": "stream",
     "text": [
      "Components: Auto\n",
      "PSNR: 33.08 dB\n",
      "Sigma: 1.92e+01\n",
      "Components used: 1.6213150024414062\n",
      "\n",
      "Processing subject 74\n",
      "\n",
      "Analyzing n_components = None\n"
     ]
    },
    {
     "name": "stderr",
     "output_type": "stream",
     "text": [
      "100%|██████████| 64/64 [00:51<00:00,  1.23it/s]\n"
     ]
    },
    {
     "name": "stdout",
     "output_type": "stream",
     "text": [
      "Components: Auto\n",
      "PSNR: 29.70 dB\n",
      "Sigma: 2.89e+01\n",
      "Components used: 1.0923614501953125\n",
      "\n",
      "Processing subject 89\n",
      "\n",
      "Analyzing n_components = None\n"
     ]
    },
    {
     "name": "stderr",
     "output_type": "stream",
     "text": [
      "100%|██████████| 64/64 [00:53<00:00,  1.19it/s]\n"
     ]
    },
    {
     "name": "stdout",
     "output_type": "stream",
     "text": [
      "Components: Auto\n",
      "PSNR: 31.30 dB\n",
      "Sigma: 1.93e+01\n",
      "Components used: 1.1860771179199219\n",
      "\n",
      "Processing subject 92\n",
      "\n",
      "Analyzing n_components = None\n"
     ]
    },
    {
     "name": "stderr",
     "output_type": "stream",
     "text": [
      "100%|██████████| 64/64 [00:58<00:00,  1.09it/s]\n"
     ]
    },
    {
     "name": "stdout",
     "output_type": "stream",
     "text": [
      "Components: Auto\n",
      "PSNR: 27.96 dB\n",
      "Sigma: 3.05e+01\n",
      "Components used: 1.0528450012207031\n",
      "\n",
      "Processing subject 73\n",
      "\n",
      "Analyzing n_components = None\n"
     ]
    },
    {
     "name": "stderr",
     "output_type": "stream",
     "text": [
      "100%|██████████| 64/64 [00:53<00:00,  1.19it/s]\n"
     ]
    },
    {
     "name": "stdout",
     "output_type": "stream",
     "text": [
      "Components: Auto\n",
      "PSNR: 28.80 dB\n",
      "Sigma: 3.45e+01\n",
      "Components used: 1.0530967712402344\n",
      "\n",
      "Processing subject 51\n",
      "\n",
      "Analyzing n_components = None\n"
     ]
    },
    {
     "name": "stderr",
     "output_type": "stream",
     "text": [
      "100%|██████████| 64/64 [00:53<00:00,  1.21it/s]\n"
     ]
    },
    {
     "name": "stdout",
     "output_type": "stream",
     "text": [
      "Components: Auto\n",
      "PSNR: 28.66 dB\n",
      "Sigma: 2.93e+01\n",
      "Components used: 1.5499763488769531\n",
      "\n",
      "Processing subject 87\n",
      "\n",
      "Analyzing n_components = None\n"
     ]
    },
    {
     "name": "stderr",
     "output_type": "stream",
     "text": [
      "100%|██████████| 64/64 [01:00<00:00,  1.05it/s]\n"
     ]
    },
    {
     "name": "stdout",
     "output_type": "stream",
     "text": [
      "Components: Auto\n",
      "PSNR: 28.89 dB\n",
      "Sigma: 2.92e+01\n",
      "Components used: 1.06695556640625\n",
      "\n",
      "Processing subject 82\n",
      "\n",
      "Analyzing n_components = None\n"
     ]
    },
    {
     "name": "stderr",
     "output_type": "stream",
     "text": [
      "100%|██████████| 64/64 [01:06<00:00,  1.04s/it]\n"
     ]
    },
    {
     "name": "stdout",
     "output_type": "stream",
     "text": [
      "Components: Auto\n",
      "PSNR: 28.79 dB\n",
      "Sigma: 2.90e+01\n",
      "Components used: 1.0729217529296875\n",
      "\n",
      "Processing subject 50\n",
      "\n",
      "Analyzing n_components = None\n"
     ]
    },
    {
     "name": "stderr",
     "output_type": "stream",
     "text": [
      "100%|██████████| 64/64 [01:05<00:00,  1.03s/it]\n"
     ]
    },
    {
     "name": "stdout",
     "output_type": "stream",
     "text": [
      "Components: Auto\n",
      "PSNR: 31.39 dB\n",
      "Sigma: 2.22e+01\n",
      "Components used: 1.5747337341308594\n",
      "\n",
      "Processing subject 97\n",
      "\n",
      "Analyzing n_components = None\n"
     ]
    },
    {
     "name": "stderr",
     "output_type": "stream",
     "text": [
      "100%|██████████| 64/64 [00:53<00:00,  1.21it/s]\n"
     ]
    },
    {
     "name": "stdout",
     "output_type": "stream",
     "text": [
      "Components: Auto\n",
      "PSNR: 28.25 dB\n",
      "Sigma: 3.02e+01\n",
      "Components used: 1.0181961059570312\n",
      "\n",
      "Processing subject 76\n",
      "\n",
      "Analyzing n_components = None\n"
     ]
    },
    {
     "name": "stderr",
     "output_type": "stream",
     "text": [
      "100%|██████████| 64/64 [00:58<00:00,  1.09it/s]\n"
     ]
    },
    {
     "name": "stdout",
     "output_type": "stream",
     "text": [
      "Components: Auto\n",
      "PSNR: 31.09 dB\n",
      "Sigma: 2.19e+01\n",
      "Components used: 1.1530914306640625\n",
      "\n",
      "Processing subject 88\n",
      "\n",
      "Analyzing n_components = None\n"
     ]
    },
    {
     "name": "stderr",
     "output_type": "stream",
     "text": [
      "100%|██████████| 64/64 [01:21<00:00,  1.27s/it]\n"
     ]
    },
    {
     "name": "stdout",
     "output_type": "stream",
     "text": [
      "Components: Auto\n",
      "PSNR: 27.74 dB\n",
      "Sigma: 2.92e+01\n",
      "Components used: 1.0780677795410156\n",
      "\n",
      "Processing subject 75\n",
      "\n",
      "Analyzing n_components = None\n"
     ]
    },
    {
     "name": "stderr",
     "output_type": "stream",
     "text": [
      "100%|██████████| 64/64 [01:14<00:00,  1.16s/it]\n"
     ]
    },
    {
     "name": "stdout",
     "output_type": "stream",
     "text": [
      "Components: Auto\n",
      "PSNR: 30.80 dB\n",
      "Sigma: 2.08e+01\n",
      "Components used: 1.0835533142089844\n",
      "\n",
      "Processing subject 94\n",
      "\n",
      "Analyzing n_components = None\n"
     ]
    },
    {
     "name": "stderr",
     "output_type": "stream",
     "text": [
      "100%|██████████| 64/64 [01:16<00:00,  1.19s/it]\n"
     ]
    },
    {
     "name": "stdout",
     "output_type": "stream",
     "text": [
      "Components: Auto\n",
      "PSNR: 30.13 dB\n",
      "Sigma: 2.47e+01\n",
      "Components used: 1.1356315612792969\n",
      "\n",
      "Processing subject 81\n",
      "\n",
      "Analyzing n_components = None\n"
     ]
    },
    {
     "name": "stderr",
     "output_type": "stream",
     "text": [
      "100%|██████████| 64/64 [01:22<00:00,  1.29s/it]\n"
     ]
    },
    {
     "name": "stdout",
     "output_type": "stream",
     "text": [
      "Components: Auto\n",
      "PSNR: 29.95 dB\n",
      "Sigma: 2.41e+01\n",
      "Components used: 1.0760574340820312\n",
      "\n",
      "Processing subject 84\n",
      "\n",
      "Analyzing n_components = None\n"
     ]
    },
    {
     "name": "stderr",
     "output_type": "stream",
     "text": [
      "100%|██████████| 64/64 [01:26<00:00,  1.35s/it]\n"
     ]
    },
    {
     "name": "stdout",
     "output_type": "stream",
     "text": [
      "Components: Auto\n",
      "PSNR: 32.35 dB\n",
      "Sigma: 2.05e+01\n",
      "Components used: 1.1514892578125\n",
      "\n",
      "Processing subject 79\n",
      "\n",
      "Analyzing n_components = None\n"
     ]
    },
    {
     "name": "stderr",
     "output_type": "stream",
     "text": [
      "100%|██████████| 64/64 [01:23<00:00,  1.31s/it]\n"
     ]
    },
    {
     "name": "stdout",
     "output_type": "stream",
     "text": [
      "Components: Auto\n",
      "PSNR: 27.80 dB\n",
      "Sigma: 3.07e+01\n",
      "Components used: 1.2030067443847656\n",
      "\n",
      "Processing subject 98\n",
      "\n",
      "Analyzing n_components = None\n"
     ]
    },
    {
     "name": "stderr",
     "output_type": "stream",
     "text": [
      "100%|██████████| 64/64 [01:00<00:00,  1.06it/s]\n"
     ]
    },
    {
     "name": "stdout",
     "output_type": "stream",
     "text": [
      "Components: Auto\n",
      "PSNR: 15.24 dB\n",
      "Sigma: 7.70e+01\n",
      "Components used: 0.0\n",
      "\n",
      "Processing subject 70\n",
      "\n",
      "Analyzing n_components = None\n"
     ]
    },
    {
     "name": "stderr",
     "output_type": "stream",
     "text": [
      "100%|██████████| 64/64 [01:14<00:00,  1.17s/it]\n"
     ]
    },
    {
     "name": "stdout",
     "output_type": "stream",
     "text": [
      "Components: Auto\n",
      "PSNR: 29.19 dB\n",
      "Sigma: 2.70e+01\n",
      "Components used: 1.077056884765625\n",
      "\n",
      "Processing subject 91\n",
      "\n",
      "Analyzing n_components = None\n"
     ]
    },
    {
     "name": "stderr",
     "output_type": "stream",
     "text": [
      "100%|██████████| 64/64 [01:13<00:00,  1.15s/it]\n"
     ]
    },
    {
     "name": "stdout",
     "output_type": "stream",
     "text": [
      "Components: Auto\n",
      "PSNR: 27.42 dB\n",
      "Sigma: 2.95e+01\n",
      "Components used: 1.0499191284179688\n",
      "\n",
      "Generating aggregate plots and statistics...\n",
      "\n",
      "Analysis complete! Results saved in: mppca_analysis_results\n",
      "\n",
      "Summary of results:\n",
      "  Components  PSNR_mean  PSNR_std   PSNR_min   PSNR_max  Sigma_mean  \\\n",
      "0       None  29.350199  2.935116  15.243155  33.095733    27.97121   \n",
      "\n",
      "   Sigma_std  NPars_mean  NPars_std  \n",
      "0   9.566662    1.129679   0.250307  \n"
     ]
    }
   ],
   "source": [
    "\n",
    "\n",
    "def mp_threshold(S, M, N):\n",
    "    \"\"\"Calculate Marchenko-Pastur threshold for eigenvalues.\"\"\"\n",
    "    vals = S**2 / N\n",
    "    scaling = np.ones(len(vals))\n",
    "    if M > N:\n",
    "        scaling = (M - np.arange(len(vals))) / N\n",
    "        scaling[scaling < 1] = 1\n",
    "    \n",
    "    csum = np.cumsum(vals[::-1])[::-1]\n",
    "    cmean = csum / np.arange(len(vals), 0, -1)\n",
    "    sigmasq_1 = cmean / scaling\n",
    "    \n",
    "    gamma = (M - np.arange(len(vals))) / N\n",
    "    rangeMP = 4 * np.sqrt(gamma)\n",
    "    rangeData = vals - vals[-1]\n",
    "    sigmasq_2 = rangeData / rangeMP\n",
    "    \n",
    "    t = np.argmax(sigmasq_2 < sigmasq_1)\n",
    "    sigma = np.sqrt(sigmasq_1[t])\n",
    "    \n",
    "    return sigma, t\n",
    "\n",
    "def improved_mppca(X, patch_radius=2, n_components=None):\n",
    "    \"\"\"Marchenko-Pastur PCA denoising with automatic component selection.\"\"\"\n",
    "    sx, sy, sz, N = X.shape\n",
    "    patch_size = 2 * patch_radius + 1\n",
    "    \n",
    "    Xdn = np.zeros_like(X)\n",
    "    weights = np.zeros((sx, sy, sz))\n",
    "    sigma_map = np.zeros((sx, sy, sz))\n",
    "    npars_map = np.zeros((sx, sy, sz))\n",
    "    \n",
    "    pad_width = ((patch_radius, patch_radius),\n",
    "                 (patch_radius, patch_radius),\n",
    "                 (patch_radius, patch_radius),\n",
    "                 (0, 0))\n",
    "    X_padded = np.pad(X, pad_width, mode='reflect')\n",
    "    \n",
    "    for x in tqdm(range(patch_radius, sx + patch_radius)):\n",
    "        for y in range(patch_radius, sy + patch_radius):\n",
    "            for z in range(patch_radius, sz + patch_radius):\n",
    "                patch = X_padded[x-patch_radius:x+patch_radius+1,\n",
    "                               y-patch_radius:y+patch_radius+1,\n",
    "                               z-patch_radius:z+patch_radius+1]\n",
    "                \n",
    "                M = patch.reshape(-1, N)\n",
    "                U, S, Vh = linalg.svd(M, full_matrices=False)\n",
    "                \n",
    "                if n_components is None:\n",
    "                    sigma, npars = mp_threshold(S, M.shape[0], N)\n",
    "                    S[npars:] = 0\n",
    "                else:\n",
    "                    npars = n_components\n",
    "                    sigma = np.median(S) / 0.6745\n",
    "                    S[n_components:] = 0\n",
    "                \n",
    "                M_denoised = U @ np.diag(S) @ Vh\n",
    "                patch_denoised = M_denoised.reshape(patch_size, patch_size, patch_size, N)\n",
    "                \n",
    "                x_idx = x-patch_radius\n",
    "                y_idx = y-patch_radius\n",
    "                z_idx = z-patch_radius\n",
    "                \n",
    "                Xdn[x_idx, y_idx, z_idx] = patch_denoised[patch_radius, patch_radius, patch_radius]\n",
    "                weights[x_idx, y_idx, z_idx] += 1\n",
    "                sigma_map[x_idx, y_idx, z_idx] = sigma\n",
    "                npars_map[x_idx, y_idx, z_idx] = npars\n",
    "    \n",
    "    Xdn = Xdn / weights[..., np.newaxis]\n",
    "    return Xdn, np.mean(sigma_map), np.mean(npars_map)\n",
    "\n",
    "def analyze_eigenvalues(X, patch_radius=2):\n",
    "    \"\"\"Analyze eigenvalue distribution for a sample of patches.\"\"\"\n",
    "    patch_size = 2 * patch_radius + 1\n",
    "    sx, sy, sz, N = X.shape\n",
    "    \n",
    "    n_samples = 100\n",
    "    eigenvalues = []\n",
    "    cutoffs = []\n",
    "    \n",
    "    for _ in range(n_samples):\n",
    "        x = np.random.randint(patch_radius, sx - patch_radius)\n",
    "        y = np.random.randint(patch_radius, sy - patch_radius)\n",
    "        z = np.random.randint(patch_radius, sz - patch_radius)\n",
    "        \n",
    "        patch = X[x-patch_radius:x+patch_radius+1,\n",
    "                 y-patch_radius:y+patch_radius+1,\n",
    "                 z-patch_radius:z+patch_radius+1]\n",
    "        \n",
    "        M = patch.reshape(-1, N)\n",
    "        _, S, _ = linalg.svd(M, full_matrices=False)\n",
    "        \n",
    "        sigma, npars = mp_threshold(S, M.shape[0], N)\n",
    "        \n",
    "        eigenvalues.append(S**2 / N)\n",
    "        cutoffs.append(npars)\n",
    "        \n",
    "    return np.array(eigenvalues), np.array(cutoffs)\n",
    "\n",
    "def plot_all_subjects_results(results_dict, save_dir='analysis_plots'):\n",
    "    \"\"\"Create combined plots with confidence intervals and individual subject lines\"\"\"\n",
    "    save_dir = Path(save_dir)\n",
    "    save_dir.mkdir(exist_ok=True)\n",
    "\n",
    "    # n_components_list = [None, 1, 2, 3, 4, 7]\n",
    "    n_components_list = [None]\n",
    "    # Collect metrics across subjects\n",
    "    all_psnr = []\n",
    "    all_sigma = []\n",
    "    all_npars = []\n",
    "    \n",
    "    for subject_id, results in results_dict.items():\n",
    "        all_psnr.append(results['psnr_scores'])\n",
    "        all_sigma.append(results['sigma_list'])\n",
    "        all_npars.append(results['npars_list'])\n",
    "    \n",
    "    # Convert to numpy arrays\n",
    "    all_psnr = np.array(all_psnr)\n",
    "    all_sigma = np.array(all_sigma)\n",
    "    all_npars = np.array(all_npars)\n",
    "    \n",
    "    # Calculate statistics\n",
    "    psnr_mean = np.mean(all_psnr, axis=0)\n",
    "    psnr_std = np.std(all_psnr, axis=0)\n",
    "    psnr_min = np.min(all_psnr, axis=0)\n",
    "    psnr_max = np.max(all_psnr, axis=0)\n",
    "    \n",
    "    # Create aggregate plots\n",
    "    plt.figure(figsize=(15, 10))\n",
    "    \n",
    "    # Individual subject lines\n",
    "    for subject_id, results in results_dict.items():\n",
    "        plt.plot(range(len(n_components_list)), results['psnr_scores'], \n",
    "                alpha=0.2, color='blue', linewidth=1)\n",
    "    \n",
    "    # Mean line with confidence band\n",
    "    plt.plot(range(len(n_components_list)), psnr_mean, 'b-', \n",
    "            linewidth=2, label='Mean PSNR')\n",
    "    plt.fill_between(range(len(n_components_list)), \n",
    "                    psnr_mean - psnr_std, \n",
    "                    psnr_mean + psnr_std, \n",
    "                    alpha=0.3, color='blue', \n",
    "                    label='±1 std dev')\n",
    "    plt.fill_between(range(len(n_components_list)), \n",
    "                    psnr_min, psnr_max, \n",
    "                    alpha=0.1, color='blue', \n",
    "                    label='Min-Max range')\n",
    "    \n",
    "    plt.xticks(range(len(n_components_list)), \n",
    "               ['Auto' if x is None else str(x) for x in n_components_list])\n",
    "    plt.xlabel('Number of Components')\n",
    "    plt.ylabel('PSNR (dB)')\n",
    "    plt.title('PSNR vs Components Across All Subjects')\n",
    "    plt.grid(True)\n",
    "    plt.legend()\n",
    "    plt.savefig(save_dir / 'aggregate_psnr.png')\n",
    "    plt.close()\n",
    "    \n",
    "    # Create detailed multi-panel figure\n",
    "    fig, ((ax1, ax2), (ax3, ax4)) = plt.subplots(2, 2, figsize=(20, 15))\n",
    "    \n",
    "    # 1. PSNR with confidence bands\n",
    "    for subject_id, results in results_dict.items():\n",
    "        ax1.plot(range(len(n_components_list)), results['psnr_scores'], \n",
    "                alpha=0.2, color='blue', linewidth=1)\n",
    "    ax1.plot(range(len(n_components_list)), psnr_mean, 'b-', linewidth=2, label='Mean')\n",
    "    ax1.fill_between(range(len(n_components_list)), \n",
    "                    psnr_mean - psnr_std, \n",
    "                    psnr_mean + psnr_std, \n",
    "                    alpha=0.3, color='blue')\n",
    "    ax1.set_xticks(range(len(n_components_list)))\n",
    "    ax1.set_xticklabels(['Auto' if x is None else str(x) for x in n_components_list])\n",
    "    ax1.set_title('PSNR vs Components')\n",
    "    ax1.set_xlabel('Number of Components')\n",
    "    ax1.set_ylabel('PSNR (dB)')\n",
    "    ax1.grid(True)\n",
    "    \n",
    "    # 2. Sigma values distribution\n",
    "    sigma_mean = np.mean(all_sigma, axis=0)\n",
    "    sigma_std = np.std(all_sigma, axis=0)\n",
    "    for subject_id, results in results_dict.items():\n",
    "        ax2.plot(range(len(n_components_list)), results['sigma_list'], \n",
    "                alpha=0.2, color='red', linewidth=1)\n",
    "    ax2.plot(range(len(n_components_list)), sigma_mean, 'r-', linewidth=2)\n",
    "    ax2.fill_between(range(len(n_components_list)), \n",
    "                    sigma_mean - sigma_std, \n",
    "                    sigma_mean + sigma_std, \n",
    "                    alpha=0.3, color='red')\n",
    "    ax2.set_xticks(range(len(n_components_list)))\n",
    "    ax2.set_xticklabels(['Auto' if x is None else str(x) for x in n_components_list])\n",
    "    ax2.set_title('Noise Level (Sigma) vs Components')\n",
    "    ax2.set_xlabel('Number of Components')\n",
    "    ax2.set_ylabel('Sigma')\n",
    "    ax2.grid(True)\n",
    "    \n",
    "    # 3. Box plot of PSNR distributions\n",
    "    ax3.boxplot([all_psnr[:, i] for i in range(len(n_components_list))],\n",
    "                labels=['Auto' if x is None else str(x) for x in n_components_list])\n",
    "    ax3.set_title('PSNR Distribution by Components')\n",
    "    ax3.set_xlabel('Number of Components')\n",
    "    ax3.set_ylabel('PSNR (dB)')\n",
    "    ax3.grid(True)\n",
    "    \n",
    "    # 4. Components used vs requested\n",
    "    npars_mean = np.mean(all_npars, axis=0)\n",
    "    npars_std = np.std(all_npars, axis=0)\n",
    "    for subject_id, results in results_dict.items():\n",
    "        ax4.plot(range(len(n_components_list)), results['npars_list'], \n",
    "                alpha=0.2, color='green', linewidth=1)\n",
    "    ax4.plot(range(len(n_components_list)), npars_mean, 'g-', linewidth=2)\n",
    "    ax4.fill_between(range(len(n_components_list)), \n",
    "                    npars_mean - npars_std, \n",
    "                    npars_mean + npars_std, \n",
    "                    alpha=0.3, color='green')\n",
    "    ax4.set_xticks(range(len(n_components_list)))\n",
    "    ax4.set_xticklabels(['Auto' if x is None else str(x) for x in n_components_list])\n",
    "    ax4.set_title('Components Used vs Requested')\n",
    "    ax4.set_xlabel('Requested Components')\n",
    "    ax4.set_ylabel('Components Used')\n",
    "    ax4.grid(True)\n",
    "    \n",
    "    plt.tight_layout()\n",
    "    plt.savefig(save_dir / 'detailed_analysis.png')\n",
    "    plt.close()\n",
    "\n",
    "\n",
    "    # Save statistical summary\n",
    "    summary = pd.DataFrame({\n",
    "        'Components': n_components_list,\n",
    "        'PSNR_mean': psnr_mean,\n",
    "        'PSNR_std': psnr_std,\n",
    "        'PSNR_min': psnr_min,\n",
    "        'PSNR_max': psnr_max,\n",
    "        'Sigma_mean': sigma_mean,\n",
    "        'Sigma_std': sigma_std,\n",
    "        'NPars_mean': npars_mean,\n",
    "        'NPars_std': npars_std\n",
    "    })\n",
    "    summary.to_csv(save_dir / 'analysis_summary.csv')\n",
    "    \n",
    "    return summary\n",
    "\n",
    "def comprehensive_analysis(data, patch_radius=2):\n",
    "    \"\"\"Analyze data with different numbers of components\"\"\"\n",
    "    # n_components_list = [None, 1, 2, 3, 4, 7]\n",
    "    n_components_list = [None]\n",
    "    results = {\n",
    "        'denoised_list': [],\n",
    "        'sigma_list': [],\n",
    "        'npars_list': [],\n",
    "        'psnr_scores': [],\n",
    "        'eigenvalues_list': [],\n",
    "        'cutoffs_list': []\n",
    "    }\n",
    "    \n",
    "    # Create brain mask\n",
    "    middle_slice = np.abs(data[:, :, data.shape[2]//2, 0])\n",
    "    threshold = np.mean(middle_slice) + 0.5 * np.std(middle_slice)\n",
    "    mask = middle_slice > threshold\n",
    "    \n",
    "    # Reference for PSNR\n",
    "    reference = data.real\n",
    "    \n",
    "    for n_comp in n_components_list:\n",
    "        print(f\"\\nAnalyzing n_components = {n_comp}\")\n",
    "        \n",
    "        # Run denoising\n",
    "        denoised, sigma, npars = improved_mppca(data, \n",
    "                                              patch_radius=patch_radius,\n",
    "                                              n_components=n_comp)\n",
    "        \n",
    "        # Analyze eigenvalues\n",
    "        eigenvalues, cutoffs = analyze_eigenvalues(data, patch_radius=patch_radius)\n",
    "        \n",
    "        # Calculate PSNR\n",
    "        slice_psnrs = []\n",
    "        for z in range(data.shape[2]):\n",
    "            ref_slice = reference[:, :, z, 0] * mask\n",
    "            den_slice = denoised[:, :, z, 0].real * mask\n",
    "            \n",
    "            if np.any(mask):\n",
    "                slice_psnr = psnr(ref_slice, den_slice, data_range=ref_slice.max())\n",
    "                slice_psnrs.append(slice_psnr)\n",
    "        \n",
    "        avg_psnr = np.mean(slice_psnrs)\n",
    "        \n",
    "        # Store results\n",
    "        results['denoised_list'].append(denoised)\n",
    "        results['sigma_list'].append(sigma)\n",
    "        results['npars_list'].append(npars)\n",
    "        results['psnr_scores'].append(avg_psnr)\n",
    "        results['eigenvalues_list'].append(eigenvalues)\n",
    "        results['cutoffs_list'].append(cutoffs)\n",
    "        \n",
    "        print(f\"Components: {n_comp if n_comp is not None else 'Auto'}\")\n",
    "        print(f\"PSNR: {avg_psnr:.2f} dB\")\n",
    "        print(f\"Sigma: {sigma:.2e}\")\n",
    "        print(f\"Components used: {npars}\")\n",
    "    \n",
    "    return results\n",
    "\n",
    "# Main execution\n",
    "if __name__ == \"__main__\":\n",
    "    # Create output directory\n",
    "    output_dir = Path('mppca_analysis_results')\n",
    "    output_dir.mkdir(exist_ok=True)\n",
    "    \n",
    "    # Load data\n",
    "    print(\"Loading data...\")\n",
    "    subject_dict = get_4d_complex_data_provided(24)\n",
    "    \n",
    "    # Process all subjects\n",
    "    results_dict = {}\n",
    "    \n",
    "    for subject_id in subject_dict.keys():\n",
    "        print(f\"\\nProcessing subject {subject_id}\")\n",
    "        data = subject_dict[subject_id]\n",
    "        \n",
    "        # Run analysis\n",
    "        results = comprehensive_analysis(data, patch_radius=2)\n",
    "        results_dict[subject_id] = results\n",
    "        \n",
    "        # Save subject-specific results\n",
    "        np.save(output_dir / f'subject_{subject_id}_results.npy', results)\n",
    "    \n",
    "    # Create and save aggregate plots\n",
    "    print(\"\\nGenerating aggregate plots and statistics...\")\n",
    "    summary = plot_all_subjects_results(results_dict, save_dir=output_dir)\n",
    "    \n",
    "    print(\"\\nAnalysis complete! Results saved in:\", output_dir)\n",
    "    print(\"\\nSummary of results:\")\n",
    "    print(summary)"
   ]
  },
  {
   "cell_type": "code",
   "execution_count": null,
   "metadata": {},
   "outputs": [],
   "source": []
  }
 ],
 "metadata": {
  "kernelspec": {
   "display_name": "pydl",
   "language": "python",
   "name": "python3"
  },
  "language_info": {
   "codemirror_mode": {
    "name": "ipython",
    "version": 3
   },
   "file_extension": ".py",
   "mimetype": "text/x-python",
   "name": "python",
   "nbconvert_exporter": "python",
   "pygments_lexer": "ipython3",
   "version": "undefined.undefined.undefined"
  }
 },
 "nbformat": 4,
 "nbformat_minor": 2
}
